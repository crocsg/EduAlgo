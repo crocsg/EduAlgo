{
 "cells": [
  {
   "cell_type": "markdown",
   "metadata": {},
   "source": [
    "# Representation des données : Les variables\n",
    "---"
   ]
  },
  {
   "cell_type": "markdown",
   "metadata": {},
   "source": [
    "## Les variables de type '**Nombre**'"
   ]
  },
  {
   "cell_type": "raw",
   "metadata": {},
   "source": [
    "VARIABLES\n",
    "  a EST_DU_TYPE NOMBRE"
   ]
  },
  {
   "cell_type": "markdown",
   "metadata": {},
   "source": [
    "### Affectation d'une variable"
   ]
  },
  {
   "cell_type": "raw",
   "metadata": {},
   "source": [
    "a PREND_LA_VALEUR 5\n",
    "a PREND_LA_VALEUR 25000"
   ]
  },
  {
   "cell_type": "markdown",
   "metadata": {},
   "source": [
    "### Affichage de variable"
   ]
  },
  {
   "cell_type": "raw",
   "metadata": {},
   "source": [
    "// sans retour a la ligne\n",
    "AFFICHER a\n",
    "\n",
    "// avec retour à la ligne\n",
    "AFFICHER* a"
   ]
  },
  {
   "cell_type": "markdown",
   "metadata": {},
   "source": [
    "### Operations mathematiques\n"
   ]
  },
  {
   "cell_type": "raw",
   "metadata": {},
   "source": [
    "a PREND_LA_VALEUR 5+2\n",
    "a PREND_LA_VALEUR 6/3\n",
    "a PREND_LA_VALEUR 8*3\n",
    "a PREND_LA_VALEUR 8-6"
   ]
  }
 ],
 "metadata": {
  "kernelspec": {
   "display_name": "Python 3",
   "language": "python",
   "name": "python3"
  },
  "language_info": {
   "codemirror_mode": {
    "name": "ipython",
    "version": 3
   },
   "file_extension": ".py",
   "mimetype": "text/x-python",
   "name": "python",
   "nbconvert_exporter": "python",
   "pygments_lexer": "ipython3",
   "version": "3.8.5"
  }
 },
 "nbformat": 4,
 "nbformat_minor": 4
}
